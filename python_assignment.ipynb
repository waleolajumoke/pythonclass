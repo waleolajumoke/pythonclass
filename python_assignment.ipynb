{
  "cells": [
    {
      "cell_type": "markdown",
      "metadata": {
        "id": "view-in-github",
        "colab_type": "text"
      },
      "source": [
        "<a href=\"https://colab.research.google.com/github/waleolajumoke/pythonclass/blob/main/python_assignment.ipynb\" target=\"_parent\"><img src=\"https://colab.research.google.com/assets/colab-badge.svg\" alt=\"Open In Colab\"/></a>"
      ]
    },
    {
      "cell_type": "code",
      "execution_count": null,
      "id": "17c6f812",
      "metadata": {
        "colab": {
          "base_uri": "https://localhost:8080/",
          "height": 35
        },
        "id": "17c6f812",
        "outputId": "2e3c1a78-d934-47dc-b7d9-2a8868d8894b"
      },
      "outputs": [
        {
          "output_type": "execute_result",
          "data": {
            "text/plain": [
              "'Python'"
            ],
            "application/vnd.google.colaboratory.intrinsic+json": {
              "type": "string"
            }
          },
          "metadata": {},
          "execution_count": 20
        }
      ],
      "source": [
        "greeting = \"Welcome to Python\"\n",
        "greeting[-6:]"
      ]
    },
    {
      "cell_type": "code",
      "execution_count": null,
      "id": "a840a25d",
      "metadata": {
        "colab": {
          "base_uri": "https://localhost:8080/",
          "height": 35
        },
        "id": "a840a25d",
        "outputId": "46c951d6-e796-4fdd-b371-23f4a7ee0ac8"
      },
      "outputs": [
        {
          "output_type": "execute_result",
          "data": {
            "text/plain": [
              "'12345678'"
            ],
            "application/vnd.google.colaboratory.intrinsic+json": {
              "type": "string"
            }
          },
          "metadata": {},
          "execution_count": 1
        }
      ],
      "source": [
        "data = \"1:A, 2:B, 3:C, 4:D, 5:E, 6:F, 7:G, 8:H\"\n",
        "data[::5]"
      ]
    },
    {
      "cell_type": "code",
      "execution_count": null,
      "id": "8bc70cb6",
      "metadata": {
        "colab": {
          "base_uri": "https://localhost:8080/",
          "height": 35
        },
        "id": "8bc70cb6",
        "outputId": "f2657622-b529-4aa5-f7db-03c3ec26bd5d"
      },
      "outputs": [
        {
          "output_type": "execute_result",
          "data": {
            "text/plain": [
              "'elaW'"
            ],
            "application/vnd.google.colaboratory.intrinsic+json": {
              "type": "string"
            }
          },
          "metadata": {},
          "execution_count": 5
        }
      ],
      "source": [
        "sample = 'My Name is Wale'\n",
        "sample = sample[-4::1]\n",
        "sample[::-1]"
      ]
    },
    {
      "cell_type": "code",
      "source": [
        "sample = 'My Name is Wale'\n",
        "sample.split()[3][::-1]"
      ],
      "metadata": {
        "colab": {
          "base_uri": "https://localhost:8080/",
          "height": 35
        },
        "id": "3nyNuPfHjvr0",
        "outputId": "28d8b6e0-cdef-4629-dda8-d7bfabc33730"
      },
      "id": "3nyNuPfHjvr0",
      "execution_count": null,
      "outputs": [
        {
          "output_type": "execute_result",
          "data": {
            "text/plain": [
              "'elaW'"
            ],
            "application/vnd.google.colaboratory.intrinsic+json": {
              "type": "string"
            }
          },
          "metadata": {},
          "execution_count": 8
        }
      ]
    },
    {
      "cell_type": "code",
      "execution_count": null,
      "id": "fba552b9",
      "metadata": {
        "colab": {
          "base_uri": "https://localhost:8080/"
        },
        "id": "fba552b9",
        "outputId": "3d9bbbdf-abf7-4259-8572-95a218b5ac2a"
      },
      "outputs": [
        {
          "output_type": "stream",
          "name": "stdout",
          "text": [
            "I have 1000  dollars so I can buy 3 football for 450 dollars.\n",
            "I have 1000 dollars so I can buy 3 football for 450 dollars\n"
          ]
        }
      ],
      "source": [
        "totalMoney = 1000\n",
        "quantity = 3\n",
        "price = 450\n",
        "print(\"I have\", totalMoney,\" dollars so I can buy\", quantity ,\"football for\", price ,\"dollars.\")\n",
        "print(f\"I have {totalMoney} dollars so I can buy {quantity} football for {price} dollars\")"
      ]
    },
    {
      "cell_type": "code",
      "execution_count": null,
      "id": "8b74e1b7",
      "metadata": {
        "id": "8b74e1b7"
      },
      "outputs": [],
      "source": [
        "# A variable name must start with a letter or underscore character\n",
        "# A variable name cannot start with a number \n",
        "# Variables are case-sensitive \n",
        "# A variable name can only contain alpha-numeric characters and underscores"
      ]
    },
    {
      "cell_type": "code",
      "execution_count": null,
      "id": "63936167",
      "metadata": {
        "colab": {
          "base_uri": "https://localhost:8080/"
        },
        "id": "63936167",
        "outputId": "50d268be-b640-49d1-83a2-5ca3f781e108"
      },
      "outputs": [
        {
          "output_type": "stream",
          "name": "stdout",
          "text": [
            "My name is Dami. I am 23 years old\n"
          ]
        }
      ],
      "source": [
        "name = \"Dami\"\n",
        "age = 23\n",
        "print(f\"My name is {name}. I am {age} years old\")"
      ]
    },
    {
      "cell_type": "code",
      "execution_count": null,
      "id": "2b15c4db",
      "metadata": {
        "colab": {
          "base_uri": "https://localhost:8080/"
        },
        "id": "2b15c4db",
        "outputId": "8ea14144-30fc-47e4-a353-1d5a53cd1133"
      },
      "outputs": [
        {
          "output_type": "execute_result",
          "data": {
            "text/plain": [
              "[1, 2, 3, [4, 5, [6, 8]]]"
            ]
          },
          "metadata": {},
          "execution_count": 13
        }
      ],
      "source": [
        "student_score = [1,2,3,[4,5,[6,7]]]\n",
        "student_score[3][2][1] = 8\n",
        "student_score\n"
      ]
    },
    {
      "cell_type": "code",
      "execution_count": null,
      "id": "aa1fbdd8",
      "metadata": {
        "id": "aa1fbdd8"
      },
      "outputs": [],
      "source": [
        "record = {'k1':[{'nest_key':['this is deep',['tech365']]}]}"
      ]
    },
    {
      "cell_type": "code",
      "execution_count": null,
      "id": "5a9249ca",
      "metadata": {
        "colab": {
          "base_uri": "https://localhost:8080/",
          "height": 35
        },
        "id": "5a9249ca",
        "outputId": "5668f1db-b7cb-4b6c-859c-c449dd3cf433"
      },
      "outputs": [
        {
          "output_type": "execute_result",
          "data": {
            "text/plain": [
              "'tech365'"
            ],
            "application/vnd.google.colaboratory.intrinsic+json": {
              "type": "string"
            }
          },
          "metadata": {},
          "execution_count": 19
        }
      ],
      "source": [
        "record['k1'][0]['nest_key'][1][0]"
      ]
    },
    {
      "cell_type": "code",
      "execution_count": null,
      "id": "6b0da5b5",
      "metadata": {
        "id": "6b0da5b5"
      },
      "outputs": [],
      "source": [
        "staff = [{\"name\":\"Wale\",\"gender\":\"Male\"},{\"name\":\"Paul\",\"gender\":\"Male\"},{\"name\":\"Mary\",\"gender\":\"female\"}]"
      ]
    },
    {
      "cell_type": "code",
      "execution_count": null,
      "id": "fdae384c",
      "metadata": {
        "id": "fdae384c",
        "outputId": "c3f78da4-b4c2-4454-e6c5-8aeca39c5f10"
      },
      "outputs": [
        {
          "data": {
            "text/plain": [
              "'female'"
            ]
          },
          "execution_count": 79,
          "metadata": {},
          "output_type": "execute_result"
        }
      ],
      "source": [
        "staff[2]['gender']"
      ]
    },
    {
      "cell_type": "code",
      "execution_count": null,
      "id": "7b0b8c07",
      "metadata": {
        "id": "7b0b8c07"
      },
      "outputs": [],
      "source": [
        "message = [\"Welcome\", \"to\", \"training\"]"
      ]
    },
    {
      "cell_type": "code",
      "execution_count": null,
      "id": "d1f36747",
      "metadata": {
        "id": "d1f36747"
      },
      "outputs": [],
      "source": [
        "message.insert(2,\"python\")"
      ]
    },
    {
      "cell_type": "code",
      "execution_count": null,
      "id": "09084ec6",
      "metadata": {
        "id": "09084ec6",
        "outputId": "ea4a864a-a263-491a-8af0-99fd0bc0ede0"
      },
      "outputs": [
        {
          "data": {
            "text/plain": [
              "['Welcome', 'to', 'python', 'training']"
            ]
          },
          "execution_count": 82,
          "metadata": {},
          "output_type": "execute_result"
        }
      ],
      "source": [
        "message"
      ]
    },
    {
      "cell_type": "code",
      "execution_count": null,
      "id": "fcf4e72b",
      "metadata": {
        "id": "fcf4e72b"
      },
      "outputs": [],
      "source": []
    }
  ],
  "metadata": {
    "kernelspec": {
      "display_name": "Python 3 (ipykernel)",
      "language": "python",
      "name": "python3"
    },
    "language_info": {
      "codemirror_mode": {
        "name": "ipython",
        "version": 3
      },
      "file_extension": ".py",
      "mimetype": "text/x-python",
      "name": "python",
      "nbconvert_exporter": "python",
      "pygments_lexer": "ipython3",
      "version": "3.9.13"
    },
    "colab": {
      "provenance": [],
      "include_colab_link": true
    }
  },
  "nbformat": 4,
  "nbformat_minor": 5
}